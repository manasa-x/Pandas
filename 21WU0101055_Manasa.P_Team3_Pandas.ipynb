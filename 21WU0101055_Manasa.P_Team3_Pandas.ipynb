{
 "cells": [
  {
   "cell_type": "markdown",
   "id": "619f875b",
   "metadata": {},
   "source": [
    "### PANDAS ASSIGNMENT -\n",
    "\n",
    "Manasa P\n",
    "\n",
    "21WU0101055\n",
    "\n",
    "Team 3"
   ]
  },
  {
   "cell_type": "code",
   "execution_count": 1,
   "id": "df77b424",
   "metadata": {},
   "outputs": [],
   "source": [
    "import pandas as pd"
   ]
  },
  {
   "cell_type": "code",
   "execution_count": 10,
   "id": "c9068bb9",
   "metadata": {},
   "outputs": [],
   "source": [
    "# 1. Load the dataset into a pandas DataFrame.\n",
    "\n",
    "df=pd.read_csv(r\"sales_data.csv\")"
   ]
  },
  {
   "cell_type": "code",
   "execution_count": 3,
   "id": "8e304789",
   "metadata": {},
   "outputs": [
    {
     "data": {
      "text/html": [
       "<div>\n",
       "<style scoped>\n",
       "    .dataframe tbody tr th:only-of-type {\n",
       "        vertical-align: middle;\n",
       "    }\n",
       "\n",
       "    .dataframe tbody tr th {\n",
       "        vertical-align: top;\n",
       "    }\n",
       "\n",
       "    .dataframe thead th {\n",
       "        text-align: right;\n",
       "    }\n",
       "</style>\n",
       "<table border=\"1\" class=\"dataframe\">\n",
       "  <thead>\n",
       "    <tr style=\"text-align: right;\">\n",
       "      <th></th>\n",
       "      <th>Order ID</th>\n",
       "      <th>Product</th>\n",
       "      <th>Quantity Ordered</th>\n",
       "      <th>Price Each</th>\n",
       "      <th>Order Date</th>\n",
       "      <th>City</th>\n",
       "    </tr>\n",
       "  </thead>\n",
       "  <tbody>\n",
       "    <tr>\n",
       "      <th>0</th>\n",
       "      <td>176558</td>\n",
       "      <td>USB-C Charging Cable</td>\n",
       "      <td>2</td>\n",
       "      <td>11.95</td>\n",
       "      <td>1/22/2023</td>\n",
       "      <td>New York</td>\n",
       "    </tr>\n",
       "    <tr>\n",
       "      <th>1</th>\n",
       "      <td>176559</td>\n",
       "      <td>Bose SoundSport Headphones</td>\n",
       "      <td>1</td>\n",
       "      <td>99.99</td>\n",
       "      <td>1/23/2023</td>\n",
       "      <td>Los Angeles</td>\n",
       "    </tr>\n",
       "    <tr>\n",
       "      <th>2</th>\n",
       "      <td>176560</td>\n",
       "      <td>Google Phone</td>\n",
       "      <td>1</td>\n",
       "      <td>600.00</td>\n",
       "      <td>1/23/2023</td>\n",
       "      <td>Chicago</td>\n",
       "    </tr>\n",
       "    <tr>\n",
       "      <th>3</th>\n",
       "      <td>176561</td>\n",
       "      <td>Wired Headphones</td>\n",
       "      <td>3</td>\n",
       "      <td>11.99</td>\n",
       "      <td>1/24/2023</td>\n",
       "      <td>Houston</td>\n",
       "    </tr>\n",
       "    <tr>\n",
       "      <th>4</th>\n",
       "      <td>176562</td>\n",
       "      <td>Lightning Charging Cable</td>\n",
       "      <td>1</td>\n",
       "      <td>14.95</td>\n",
       "      <td>1/24/2023</td>\n",
       "      <td>New York</td>\n",
       "    </tr>\n",
       "  </tbody>\n",
       "</table>\n",
       "</div>"
      ],
      "text/plain": [
       "   Order ID                     Product  Quantity Ordered  Price Each  \\\n",
       "0    176558        USB-C Charging Cable                 2       11.95   \n",
       "1    176559  Bose SoundSport Headphones                 1       99.99   \n",
       "2    176560                Google Phone                 1      600.00   \n",
       "3    176561            Wired Headphones                 3       11.99   \n",
       "4    176562    Lightning Charging Cable                 1       14.95   \n",
       "\n",
       "  Order Date         City  \n",
       "0  1/22/2023     New York  \n",
       "1  1/23/2023  Los Angeles  \n",
       "2  1/23/2023      Chicago  \n",
       "3  1/24/2023      Houston  \n",
       "4  1/24/2023     New York  "
      ]
     },
     "execution_count": 3,
     "metadata": {},
     "output_type": "execute_result"
    }
   ],
   "source": [
    "# 2. Display the first 5 rows of the DataFrame.\n",
    "\n",
    "df.head()"
   ]
  },
  {
   "cell_type": "code",
   "execution_count": 6,
   "id": "8c4d1172",
   "metadata": {},
   "outputs": [
    {
     "name": "stdout",
     "output_type": "stream",
     "text": [
      "Order ID            0\n",
      "Product             0\n",
      "Quantity Ordered    0\n",
      "Price Each          0\n",
      "Order Date          0\n",
      "City                0\n",
      "dtype: int64\n"
     ]
    }
   ],
   "source": [
    "# 3. Check for any missing values in the dataset.\n",
    "\n",
    "print(df.isnull().sum())"
   ]
  },
  {
   "cell_type": "code",
   "execution_count": 7,
   "id": "26a0dc11",
   "metadata": {},
   "outputs": [
    {
     "name": "stdout",
     "output_type": "stream",
     "text": [
      "\n",
      "Dataset with Total Sales column added:\n",
      "   Order ID                     Product  Quantity Ordered  Price Each  \\\n",
      "0    176558        USB-C Charging Cable                 2       11.95   \n",
      "1    176559  Bose SoundSport Headphones                 1       99.99   \n",
      "2    176560                Google Phone                 1      600.00   \n",
      "3    176561            Wired Headphones                 3       11.99   \n",
      "4    176562    Lightning Charging Cable                 1       14.95   \n",
      "\n",
      "  Order Date         City  Total Sales  \n",
      "0  1/22/2023     New York        23.90  \n",
      "1  1/23/2023  Los Angeles        99.99  \n",
      "2  1/23/2023      Chicago       600.00  \n",
      "3  1/24/2023      Houston        35.97  \n",
      "4  1/24/2023     New York        14.95  \n"
     ]
    }
   ],
   "source": [
    "# 4. Add a new column Total Sales that multiplies Quantity Ordered by Price Each.\n",
    "\n",
    "df['Total Sales'] = df['Quantity Ordered'] * df['Price Each']\n",
    "print(\"\\nDataset with Total Sales column added:\")\n",
    "print(df.head())\n"
   ]
  },
  {
   "cell_type": "code",
   "execution_count": 8,
   "id": "4b0c0f7e",
   "metadata": {},
   "outputs": [
    {
     "name": "stdout",
     "output_type": "stream",
     "text": [
      "\n",
      "Total sales for each city:\n",
      "            City  Total Sales\n",
      "0        Chicago      1800.00\n",
      "1        Houston       835.97\n",
      "2    Los Angeles       115.35\n",
      "3       New York        38.85\n",
      "4  San Francisco      1000.00\n"
     ]
    }
   ],
   "source": [
    "# 5. Find the total sales for each city and display it as a new DataFrame.\n",
    "\n",
    "total_sales_by_city = df.groupby('City')['Total Sales'].sum().reset_index()\n",
    "print(\"\\nTotal sales for each city:\")\n",
    "print(total_sales_by_city)"
   ]
  },
  {
   "cell_type": "code",
   "execution_count": 9,
   "id": "1af010d0",
   "metadata": {},
   "outputs": [
    {
     "name": "stdout",
     "output_type": "stream",
     "text": [
      "\n",
      "Product with the highest total sales:\n",
      "Product        ThinkPad Laptop\n",
      "Total Sales             1200.0\n",
      "Name: 6, dtype: object\n"
     ]
    }
   ],
   "source": [
    "# 6. Identify the product with the highest total sales.\n",
    "\n",
    "total_sales_by_product = df.groupby('Product')['Total Sales'].sum().reset_index()\n",
    "product_highest_sales = total_sales_by_product.loc[total_sales_by_product['Total Sales'].idxmax()]\n",
    "print(\"\\nProduct with the highest total sales:\")\n",
    "print(product_highest_sales)"
   ]
  },
  {
   "cell_type": "code",
   "execution_count": null,
   "id": "4ae29ed4",
   "metadata": {},
   "outputs": [],
   "source": []
  }
 ],
 "metadata": {
  "kernelspec": {
   "display_name": "Python 3 (ipykernel)",
   "language": "python",
   "name": "python3"
  },
  "language_info": {
   "codemirror_mode": {
    "name": "ipython",
    "version": 3
   },
   "file_extension": ".py",
   "mimetype": "text/x-python",
   "name": "python",
   "nbconvert_exporter": "python",
   "pygments_lexer": "ipython3",
   "version": "3.9.13"
  }
 },
 "nbformat": 4,
 "nbformat_minor": 5
}
